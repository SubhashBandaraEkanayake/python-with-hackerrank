{
 "cells": [
  {
   "cell_type": "markdown",
   "metadata": {},
   "source": [
    "8.List comprehensions"
   ]
  },
  {
   "cell_type": "code",
   "execution_count": 1,
   "metadata": {},
   "outputs": [
    {
     "name": "stdout",
     "output_type": "stream",
     "text": [
      "sam\n",
      "anny\n",
      "damn\n"
     ]
    },
    {
     "data": {
      "text/plain": [
       "['sam Smith', 'anny Smith', 'damn Smith']"
      ]
     },
     "execution_count": 1,
     "metadata": {},
     "output_type": "execute_result"
    }
   ],
   "source": [
    "myList = ['sam','anny','damn']\n",
    "newList= []\n",
    "for name in myList:\n",
    "    print(name)\n",
    "    name = name + ' Smith'\n",
    "    newList.append(name)\n",
    "    \n",
    "newList"
   ]
  },
  {
   "cell_type": "code",
   "execution_count": 2,
   "metadata": {},
   "outputs": [
    {
     "data": {
      "text/plain": [
       "['sam Smith', 'anny Smith', 'damn Smith']"
      ]
     },
     "execution_count": 2,
     "metadata": {},
     "output_type": "execute_result"
    }
   ],
   "source": [
    "newList = [name + ' Smith' for name in myList]   #we can do same thing in one line\n",
    "newList"
   ]
  },
  {
   "cell_type": "code",
   "execution_count": 3,
   "metadata": {},
   "outputs": [
    {
     "name": "stdout",
     "output_type": "stream",
     "text": [
      "[10, 20, 30, 40, 50, 60, 70, 80, 90]\n"
     ]
    }
   ],
   "source": [
    "numList = [1,2,3,4,5,6,7,8,9]\n",
    "newNumList = []\n",
    "for num in numList:\n",
    "    newNumList.append(num *10)\n",
    "    \n",
    "print(newNumList)"
   ]
  },
  {
   "cell_type": "code",
   "execution_count": 4,
   "metadata": {},
   "outputs": [
    {
     "data": {
      "text/plain": [
       "[10, 20, 30, 40, 50, 60, 70, 80, 90]"
      ]
     },
     "execution_count": 4,
     "metadata": {},
     "output_type": "execute_result"
    }
   ],
   "source": [
    "#we can do above same thing in list comprihension way\n",
    "newNumList = [num * 10 for num in numList]\n",
    "newNumList"
   ]
  },
  {
   "cell_type": "code",
   "execution_count": 5,
   "metadata": {},
   "outputs": [],
   "source": [
    "#into the question\n",
    "x=1\n",
    "y=1\n",
    "z=2\n",
    "n=3\n"
   ]
  },
  {
   "cell_type": "code",
   "execution_count": 6,
   "metadata": {},
   "outputs": [
    {
     "data": {
      "text/plain": [
       "[[0, 0, 0],\n",
       " [0, 0, 1],\n",
       " [0, 0, 2],\n",
       " [0, 1, 0],\n",
       " [0, 1, 1],\n",
       " [1, 0, 0],\n",
       " [1, 0, 1],\n",
       " [1, 1, 0],\n",
       " [1, 1, 2]]"
      ]
     },
     "execution_count": 6,
     "metadata": {},
     "output_type": "execute_result"
    }
   ],
   "source": [
    "L = []\n",
    "for i in range(x+1):\n",
    "    for j in range(y+1):\n",
    "        for k in range(z+1):\n",
    "            if (i+j+k)!=3:\n",
    "                L.append([i,j,k])\n",
    "                \n",
    "L        "
   ]
  },
  {
   "cell_type": "code",
   "execution_count": 7,
   "metadata": {},
   "outputs": [
    {
     "data": {
      "text/plain": [
       "[[0, 0, 0],\n",
       " [0, 0, 1],\n",
       " [0, 0, 2],\n",
       " [0, 1, 0],\n",
       " [0, 1, 1],\n",
       " [1, 0, 0],\n",
       " [1, 0, 1],\n",
       " [1, 1, 0],\n",
       " [1, 1, 2]]"
      ]
     },
     "execution_count": 7,
     "metadata": {},
     "output_type": "execute_result"
    }
   ],
   "source": [
    "nList = [[i,j,k] for i in range(x+1) for j in range(y+1) for k in range(z+1) if (i+j+k)!=n]\n",
    "nList"
   ]
  },
  {
   "cell_type": "markdown",
   "metadata": {},
   "source": [
    "9.Runner Up"
   ]
  },
  {
   "cell_type": "code",
   "execution_count": 36,
   "metadata": {},
   "outputs": [
    {
     "name": "stdout",
     "output_type": "stream",
     "text": [
      "34\n"
     ]
    }
   ],
   "source": [
    "def runnerUp(arr):\n",
    "    arr.sort(reverse=True)\n",
    "    for i in range(len(arr)):\n",
    "        if (arr[i]!= arr[i+1]):\n",
    "            runUp = arr[i+1]\n",
    "            break\n",
    "        else:\n",
    "            continue\n",
    "    print(runUp)\n",
    "   \n",
    "\n",
    "if __name__ == '__main__':\n",
    "    n = int(input())\n",
    "    arr = list(map(int, input().split(\" \")))\n",
    "    runnerUp(arr)\n",
    "    \n",
    "\n",
    "\n"
   ]
  },
  {
   "cell_type": "markdown",
   "metadata": {},
   "source": [
    "10. Nested Lists"
   ]
  },
  {
   "cell_type": "code",
   "execution_count": 33,
   "metadata": {},
   "outputs": [
    {
     "name": "stdout",
     "output_type": "stream",
     "text": [
      "nimal\n",
      "sam\n"
     ]
    }
   ],
   "source": [
    "N = int(input(\"Enter number of students: \"))\n",
    "students=[]\n",
    "\n",
    "def secondLowesetGrade(arr):\n",
    "    for i in range(len(arr)):\n",
    "        if(arr[i]!= arr[i+1]):\n",
    "            slg = arr[i+1]\n",
    "            return slg\n",
    "            break\n",
    "        else:\n",
    "            continue\n",
    "        \n",
    "def checkSameName(SLG,sArr):\n",
    "    sameSLG = []\n",
    "    sortedSameSLG = []\n",
    "    for i in range(len(sArr)):\n",
    "        if(SLG == sArr[i][1]):\n",
    "            sameSLG.append([sArr[i][0]])\n",
    "            sortedSameSLG = sorted(sameSLG)\n",
    "    \n",
    "    \n",
    "    for sublist in sortedSameSLG:\n",
    "        print(sublist[0])        \n",
    "            \n",
    "\n",
    "for _ in range(N):\n",
    "    name = input(\"Enter name: \")\n",
    "    score = float(input(\"Enter score: \"))\n",
    "    students.append([name,score])\n",
    "    \n",
    "scores = []\n",
    "for i in range(N):\n",
    "    scores.append(students[i][1])\n",
    "\n",
    "sortedScores = sorted(scores)\n",
    "SLG = secondLowesetGrade(sortedScores)\n",
    "checkSameName(SLG,students)\n",
    "\n",
    "\n",
    "\n",
    "    "
   ]
  }
 ],
 "metadata": {
  "kernelspec": {
   "display_name": "base",
   "language": "python",
   "name": "python3"
  },
  "language_info": {
   "codemirror_mode": {
    "name": "ipython",
    "version": 3
   },
   "file_extension": ".py",
   "mimetype": "text/x-python",
   "name": "python",
   "nbconvert_exporter": "python",
   "pygments_lexer": "ipython3",
   "version": "3.11.5"
  }
 },
 "nbformat": 4,
 "nbformat_minor": 2
}
