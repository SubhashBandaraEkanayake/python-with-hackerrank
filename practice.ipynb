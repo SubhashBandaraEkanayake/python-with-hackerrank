{
 "cells": [
  {
   "cell_type": "markdown",
   "metadata": {},
   "source": [
    "8.List comprehensions"
   ]
  },
  {
   "cell_type": "code",
   "execution_count": 1,
   "metadata": {},
   "outputs": [
    {
     "name": "stdout",
     "output_type": "stream",
     "text": [
      "sam\n",
      "anny\n",
      "damn\n"
     ]
    },
    {
     "data": {
      "text/plain": [
       "['sam Smith', 'anny Smith', 'damn Smith']"
      ]
     },
     "execution_count": 1,
     "metadata": {},
     "output_type": "execute_result"
    }
   ],
   "source": [
    "myList = ['sam','anny','damn']\n",
    "newList= []\n",
    "for name in myList:\n",
    "    print(name)\n",
    "    name = name + ' Smith'\n",
    "    newList.append(name)\n",
    "    \n",
    "newList"
   ]
  },
  {
   "cell_type": "code",
   "execution_count": 2,
   "metadata": {},
   "outputs": [
    {
     "data": {
      "text/plain": [
       "['sam Smith', 'anny Smith', 'damn Smith']"
      ]
     },
     "execution_count": 2,
     "metadata": {},
     "output_type": "execute_result"
    }
   ],
   "source": [
    "newList = [name + ' Smith' for name in myList]   #we can do same thing in one line\n",
    "newList"
   ]
  },
  {
   "cell_type": "code",
   "execution_count": 3,
   "metadata": {},
   "outputs": [
    {
     "name": "stdout",
     "output_type": "stream",
     "text": [
      "[10, 20, 30, 40, 50, 60, 70, 80, 90]\n"
     ]
    }
   ],
   "source": [
    "numList = [1,2,3,4,5,6,7,8,9]\n",
    "newNumList = []\n",
    "for num in numList:\n",
    "    newNumList.append(num *10)\n",
    "    \n",
    "print(newNumList)"
   ]
  },
  {
   "cell_type": "code",
   "execution_count": 4,
   "metadata": {},
   "outputs": [
    {
     "data": {
      "text/plain": [
       "[10, 20, 30, 40, 50, 60, 70, 80, 90]"
      ]
     },
     "execution_count": 4,
     "metadata": {},
     "output_type": "execute_result"
    }
   ],
   "source": [
    "#we can do above same thing in list comprihension way\n",
    "newNumList = [num * 10 for num in numList]\n",
    "newNumList"
   ]
  },
  {
   "cell_type": "code",
   "execution_count": 5,
   "metadata": {},
   "outputs": [],
   "source": [
    "#into the question\n",
    "x=1\n",
    "y=1\n",
    "z=2\n",
    "n=3\n"
   ]
  },
  {
   "cell_type": "code",
   "execution_count": 6,
   "metadata": {},
   "outputs": [
    {
     "data": {
      "text/plain": [
       "[[0, 0, 0],\n",
       " [0, 0, 1],\n",
       " [0, 0, 2],\n",
       " [0, 1, 0],\n",
       " [0, 1, 1],\n",
       " [1, 0, 0],\n",
       " [1, 0, 1],\n",
       " [1, 1, 0],\n",
       " [1, 1, 2]]"
      ]
     },
     "execution_count": 6,
     "metadata": {},
     "output_type": "execute_result"
    }
   ],
   "source": [
    "L = []\n",
    "for i in range(x+1):\n",
    "    for j in range(y+1):\n",
    "        for k in range(z+1):\n",
    "            if (i+j+k)!=3:\n",
    "                L.append([i,j,k])\n",
    "                \n",
    "L        "
   ]
  },
  {
   "cell_type": "code",
   "execution_count": 7,
   "metadata": {},
   "outputs": [
    {
     "data": {
      "text/plain": [
       "[[0, 0, 0],\n",
       " [0, 0, 1],\n",
       " [0, 0, 2],\n",
       " [0, 1, 0],\n",
       " [0, 1, 1],\n",
       " [1, 0, 0],\n",
       " [1, 0, 1],\n",
       " [1, 1, 0],\n",
       " [1, 1, 2]]"
      ]
     },
     "execution_count": 7,
     "metadata": {},
     "output_type": "execute_result"
    }
   ],
   "source": [
    "nList = [[i,j,k] for i in range(x+1) for j in range(y+1) for k in range(z+1) if (i+j+k)!=n]\n",
    "nList"
   ]
  },
  {
   "cell_type": "markdown",
   "metadata": {},
   "source": [
    "9.Runner Up"
   ]
  },
  {
   "cell_type": "code",
   "execution_count": 36,
   "metadata": {},
   "outputs": [
    {
     "name": "stdout",
     "output_type": "stream",
     "text": [
      "34\n"
     ]
    }
   ],
   "source": [
    "def runnerUp(arr):\n",
    "    arr.sort(reverse=True)\n",
    "    for i in range(len(arr)):\n",
    "        if (arr[i]!= arr[i+1]):\n",
    "            runUp = arr[i+1]\n",
    "            break\n",
    "        else:\n",
    "            continue\n",
    "    print(runUp)\n",
    "   \n",
    "\n",
    "if __name__ == '__main__':\n",
    "    n = int(input())\n",
    "    arr = list(map(int, input().split(\" \")))\n",
    "    runnerUp(arr)\n",
    "    \n",
    "\n",
    "\n"
   ]
  },
  {
   "cell_type": "markdown",
   "metadata": {},
   "source": [
    "10. Nested Lists"
   ]
  },
  {
   "cell_type": "code",
   "execution_count": 33,
   "metadata": {},
   "outputs": [
    {
     "name": "stdout",
     "output_type": "stream",
     "text": [
      "nimal\n",
      "sam\n"
     ]
    }
   ],
   "source": [
    "#my method\n",
    "N = int(input(\"Enter number of students: \"))\n",
    "students=[]\n",
    "\n",
    "def secondLowesetGrade(arr):\n",
    "    for i in range(len(arr)):\n",
    "        if(arr[i]!= arr[i+1]):\n",
    "            slg = arr[i+1]\n",
    "            return slg\n",
    "            break\n",
    "        else:\n",
    "            continue\n",
    "        \n",
    "def checkSameName(SLG,sArr):\n",
    "    sameSLG = []\n",
    "    sortedSameSLG = []\n",
    "    for i in range(len(sArr)):\n",
    "        if(SLG == sArr[i][1]):\n",
    "            sameSLG.append([sArr[i][0 ]])\n",
    "            sortedSameSLG = sorted(sameSLG)\n",
    "    \n",
    "    \n",
    "    for sublist in sortedSameSLG:\n",
    "        print(sublist[0])        \n",
    "            \n",
    "\n",
    "for _ in range(N):\n",
    "    name = input(\"Enter name: \")\n",
    "    score = float(input(\"Enter score: \"))\n",
    "    students.append([name,score])\n",
    "    \n",
    "scores = []\n",
    "for i in range(N):\n",
    "    scores.append(students[i][1])\n",
    "\n",
    "sortedScores = sorted(scores) #in sorted method returns object but sort() is not returb  ned\n",
    "SLG = secondLowesetGrade(sortedScores)\n",
    "checkSameName(SLG,students)\n",
    "\n",
    "\n",
    "\n",
    "    "
   ]
  },
  {
   "cell_type": "markdown",
   "metadata": {},
   "source": [
    "11. Finding the percentage"
   ]
  },
  {
   "cell_type": "code",
   "execution_count": 47,
   "metadata": {},
   "outputs": [
    {
     "name": "stdout",
     "output_type": "stream",
     "text": [
      "56.00\n"
     ]
    }
   ],
   "source": [
    "if __name__ == '__main__':\n",
    "    n = int(input())\n",
    "    student_marks = {}\n",
    "    for _ in range(n): #'_' is a placeholder when we don't need the variable\n",
    "        name, *line = input().split()\n",
    "        scores = list(map(float, line))\n",
    "        student_marks[name] = scores\n",
    "    query_name = input()\n",
    "    student_marks[query_name]\n",
    "    avg_score = sum(student_marks[query_name])/3\n",
    "    formattedNumber = f\"{avg_score:.2f}\"\n",
    "    print(formattedNumber)"
   ]
  },
  {
   "cell_type": "code",
   "execution_count": 68,
   "metadata": {},
   "outputs": [
    {
     "name": "stdout",
     "output_type": "stream",
     "text": [
      "[21.4, 45.3, 22.55]\n"
     ]
    }
   ],
   "source": [
    "name, *line = input().split()\n",
    "'''\n",
    "Explanation: This line reads a line of input, splits it into parts based on spaces, and unpacks it. \n",
    "    The first part is stored in name, and the rest are stored in line.\n",
    "\n",
    "Example: If you input Alice 85 90 88, name will be 'Alice' and line will be ['85', '90', '88'].\n",
    "'''\n",
    "\n",
    "print(list(map(int,line)))\n",
    "\n",
    "# Explanation: This converts each item in line from a string to a float (decimal number) and stores it as a list in scores.\n",
    "# Example: line becomes scores = [85.0, 90.0, 88.0].\n"
   ]
  },
  {
   "cell_type": "markdown",
   "metadata": {},
   "source": [
    "Dictionary memorizing"
   ]
  },
  {
   "cell_type": "code",
   "execution_count": 5,
   "metadata": {},
   "outputs": [
    {
     "data": {
      "text/plain": [
       "{'name': 'John', 'age': 33, 'is': True}"
      ]
     },
     "execution_count": 5,
     "metadata": {},
     "output_type": "execute_result"
    }
   ],
   "source": [
    "customer = {\n",
    "    \"name\" : \"John\",\n",
    "    \"age\" : 33,\n",
    "    \"is\" : True\n",
    "}\n",
    "\n",
    "customer"
   ]
  },
  {
   "cell_type": "code",
   "execution_count": 18,
   "metadata": {},
   "outputs": [
    {
     "ename": "KeyError",
     "evalue": "'Birthday'",
     "output_type": "error",
     "traceback": [
      "\u001b[0;31m---------------------------------------------------------------------------\u001b[0m",
      "\u001b[0;31mKeyError\u001b[0m                                  Traceback (most recent call last)",
      "Cell \u001b[0;32mIn[18], line 1\u001b[0m\n\u001b[0;32m----> 1\u001b[0m \u001b[38;5;28mprint\u001b[39m(\u001b[43mcustomer\u001b[49m\u001b[43m[\u001b[49m\u001b[38;5;124;43m\"\u001b[39;49m\u001b[38;5;124;43mBirthday\u001b[39;49m\u001b[38;5;124;43m\"\u001b[39;49m\u001b[43m]\u001b[49m)\n",
      "\u001b[0;31mKeyError\u001b[0m: 'Birthday'"
     ]
    }
   ],
   "source": [
    "print(customer[\"Birthday\"])"
   ]
  },
  {
   "cell_type": "code",
   "execution_count": 19,
   "metadata": {},
   "outputs": [
    {
     "name": "stdout",
     "output_type": "stream",
     "text": [
      "None\n"
     ]
    }
   ],
   "source": [
    "print(customer.get(\"Birthday\"))\n"
   ]
  },
  {
   "cell_type": "code",
   "execution_count": 20,
   "metadata": {},
   "outputs": [
    {
     "data": {
      "text/plain": [
       "{'name': 'John', 'age': 33, 'is': True, 'Birthday': 'Jan 1 2000'}"
      ]
     },
     "execution_count": 20,
     "metadata": {},
     "output_type": "execute_result"
    }
   ],
   "source": [
    "customer[\"Birthday\"] = \"Jan 1 2000\"\n",
    "customer"
   ]
  },
  {
   "cell_type": "code",
   "execution_count": 21,
   "metadata": {},
   "outputs": [
    {
     "name": "stdout",
     "output_type": "stream",
     "text": [
      "Jan 1 2000\n"
     ]
    }
   ],
   "source": [
    "print(customer.get(\"Birthday\"))\n"
   ]
  },
  {
   "cell_type": "markdown",
   "metadata": {},
   "source": [
    "12. Lists"
   ]
  },
  {
   "cell_type": "code",
   "execution_count": 62,
   "metadata": {},
   "outputs": [
    {
     "name": "stdout",
     "output_type": "stream",
     "text": [
      "[6, 5, 10]\n",
      "[1, 5, 9, 10]\n",
      "[9, 5, 1]\n"
     ]
    }
   ],
   "source": [
    "N = int(input())\n",
    "myList = []\n",
    "\n",
    "for _ in range(N):\n",
    "    userInput = input().split()\n",
    "    \n",
    "    if(userInput[0] == 'insert'):\n",
    "        myList.insert(int(userInput[1]),int(userInput[2]))\n",
    "    elif(userInput[0] == 'print'):\n",
    "        print(myList)\n",
    "    elif(userInput[0] == 'remove'):\n",
    "        myList.remove(int(userInput[1]))\n",
    "    elif(userInput[0] == 'append'):\n",
    "        myList.append(int(userInput[1]))\n",
    "    elif(userInput[0] == 'sort'):\n",
    "        myList.sort()\n",
    "    elif(userInput[0] == 'pop'):\n",
    "        myList.pop()\n",
    "    elif(userInput[0] == 'reverse'):\n",
    "        myList.reverse()\n",
    "        \n",
    "\n",
    "    "
   ]
  },
  {
   "cell_type": "markdown",
   "metadata": {},
   "source": [
    "13. Tuples"
   ]
  },
  {
   "cell_type": "code",
   "execution_count": 22,
   "metadata": {},
   "outputs": [
    {
     "name": "stdout",
     "output_type": "stream",
     "text": [
      "-3550055125485641917\n"
     ]
    }
   ],
   "source": [
    "'''They are like read-only lists. \n",
    "We use them to store a list of items. \n",
    "But once we define a tuple, we cannot add or remove items or change the existing items.\n",
    "'''\n",
    "\n",
    "#tuples are immutable(only have count and index methods)\n",
    "\n",
    "# if __name__ == '__main__':\n",
    "#     n = int(input())\n",
    "#     integerList = map(int,input().split())\n",
    "#     t = tuple(integerList)\n",
    "#     print(hash(t))  \n",
    "    \n",
    "    \n",
    "if __name__ == '__main__':\n",
    "    n = int(input())\n",
    "    integer_list = map(int, input().split())\n",
    "    tup = tuple(integer_list)\n",
    "    print(hash(tup))   \n"
   ]
  },
  {
   "cell_type": "markdown",
   "metadata": {},
   "source": [
    "14. Swap cases"
   ]
  },
  {
   "cell_type": "code",
   "execution_count": 40,
   "metadata": {},
   "outputs": [
    {
     "name": "stdout",
     "output_type": "stream",
     "text": [
      "sUbHASh ekAnAYaKe \"bAnDA,rA\"\n"
     ]
    }
   ],
   "source": [
    "def swapCase(s):\n",
    "    L=[]\n",
    "    for i in s:\n",
    "        if i.isalpha():\n",
    "            if (i.isupper()):\n",
    "                L.append(i.lower())\n",
    "                \n",
    "            elif (i.islower()):\n",
    "                L.append(i.upper())\n",
    "        else:\n",
    "            L.append(i)\n",
    "            \n",
    "            \n",
    "    return''.join(L)\n",
    "    \n",
    "    \n",
    "if __name__ == '__main__':\n",
    "    s = input()\n",
    "    result = swapCase(s)\n",
    "    print(result)"
   ]
  },
  {
   "cell_type": "markdown",
   "metadata": {},
   "source": [
    "15. String split and Join"
   ]
  },
  {
   "cell_type": "code",
   "execution_count": 10,
   "metadata": {},
   "outputs": [
    {
     "name": "stdout",
     "output_type": "stream",
     "text": [
      "this-is-a-string\n"
     ]
    }
   ],
   "source": [
    "def split_and_join(line):\n",
    "    line = line.split(\" \")\n",
    "    line = \"-\".join(line)\n",
    "    return line\n",
    "\n",
    "if __name__ == '__main__':\n",
    "    line = input()\n",
    "    result = split_and_join(line)\n",
    "    print(result)"
   ]
  },
  {
   "cell_type": "markdown",
   "metadata": {},
   "source": [
    "16.  What's your name?"
   ]
  },
  {
   "cell_type": "code",
   "execution_count": 18,
   "metadata": {},
   "outputs": [
    {
     "name": "stdout",
     "output_type": "stream",
     "text": [
      "Hello Subhash Ekanayake! You just delved into python.\n"
     ]
    }
   ],
   "source": [
    "def print_full_name(first, last):\n",
    "    if((len(first)<=10) and (len(last)<=10)):\n",
    "        full_name = f\"Hello {first} {last}! You just delved into python.\"\n",
    "        print(full_name)\n",
    "\n",
    "if __name__ == '__main__':\n",
    "    first_name = input()\n",
    "    last_name = input()\n",
    "    print_full_name(first_name,last_name)    "
   ]
  },
  {
   "cell_type": "markdown",
   "metadata": {},
   "source": [
    "17. Mutations"
   ]
  },
  {
   "cell_type": "code",
   "execution_count": 27,
   "metadata": {},
   "outputs": [
    {
     "name": "stdout",
     "output_type": "stream",
     "text": [
      "SubNash\n"
     ]
    }
   ],
   "source": [
    "def mutate_string(string,position,character):\n",
    "    L = list(string)\n",
    "    L[position] = character\n",
    "    L = ''.join(L)\n",
    "    return L\n",
    "\n",
    "\n",
    "if __name__ == '__main__':\n",
    "    s = input()\n",
    "    i,c = input().split()\n",
    "    s_new = mutate_string(s,int(i),c)\n",
    "    print(s_new)\n",
    "    "
   ]
  },
  {
   "cell_type": "markdown",
   "metadata": {},
   "source": [
    "18. Find a string"
   ]
  },
  {
   "cell_type": "code",
   "execution_count": 2,
   "metadata": {},
   "outputs": [
    {
     "name": "stdout",
     "output_type": "stream",
     "text": [
      "0\n"
     ]
    }
   ],
   "source": [
    "def count_substring(string, sub_string):\n",
    "    start = 0\n",
    "    end = len(sub_string)\n",
    "    \n",
    "    counter = 0\n",
    "    \n",
    "    while end <= len(string):\n",
    "        if sub_string == string[start:end]:\n",
    "            counter+=1\n",
    "        start +=1\n",
    "        end +=1       \n",
    "    return counter\n",
    "\n",
    "if __name__ == '__main__':\n",
    "    string = input().strip()\n",
    "    sub_string = input().strip()\n",
    "    \n",
    "    count = count_substring(string, sub_string)\n",
    "    print(count)"
   ]
  },
  {
   "cell_type": "markdown",
   "metadata": {},
   "source": [
    "19.String Validators"
   ]
  },
  {
   "cell_type": "code",
   "execution_count": 27,
   "metadata": {},
   "outputs": [
    {
     "name": "stdout",
     "output_type": "stream",
     "text": [
      "True\n",
      "True\n",
      "True\n",
      "True\n",
      "True\n"
     ]
    }
   ],
   "source": [
    "def checkAlphaNum(s):\n",
    "    print(any(i.isalnum() for i in s)) \n",
    "     \n",
    "def checkAlpha(s):\n",
    "    print(any(i.isalpha() for i in s))\n",
    "\n",
    "def checkDigit(s):\n",
    "    print(any(i.isdigit() for i in s))\n",
    "\n",
    "def checkLower(s):\n",
    "    print(any(i.islower() for i in s))\n",
    "            \n",
    "def checkUpper(s):\n",
    "    print(any(i.isupper() for i in s))\n",
    "    \n",
    "    \n",
    "#we use 'any' keyword to check whether one of element is given string or others.\n",
    "\n",
    "if __name__ == '__main__':\n",
    "    s = input()\n",
    "    checkAlphaNum(s)\n",
    "    checkAlpha(s)\n",
    "    checkDigit(s)\n",
    "    checkLower(s)\n",
    "    checkUpper(s)"
   ]
  },
  {
   "cell_type": "markdown",
   "metadata": {},
   "source": [
    "20.Text Alignment"
   ]
  },
  {
   "cell_type": "code",
   "execution_count": 64,
   "metadata": {},
   "outputs": [
    {
     "name": "stdout",
     "output_type": "stream",
     "text": [
      "    H    \n",
      "   HHH   \n",
      "  HHHHH  \n",
      " HHHHHHH \n",
      "HHHHHHHHH\n",
      "  HHHHH               HHHHH             \n",
      "  HHHHH               HHHHH             \n",
      "  HHHHH               HHHHH             \n",
      "  HHHHH               HHHHH             \n",
      "  HHHHH               HHHHH             \n",
      "  HHHHH               HHHHH             \n",
      "  HHHHHHHHHHHHHHHHHHHHHHHHH   \n",
      "  HHHHHHHHHHHHHHHHHHHHHHHHH   \n",
      "  HHHHHHHHHHHHHHHHHHHHHHHHH   \n",
      "  HHHHH               HHHHH             \n",
      "  HHHHH               HHHHH             \n",
      "  HHHHH               HHHHH             \n",
      "  HHHHH               HHHHH             \n",
      "  HHHHH               HHHHH             \n",
      "  HHHHH               HHHHH             \n",
      "                    HHHHHHHHH \n",
      "                     HHHHHHH  \n",
      "                      HHHHH   \n",
      "                       HHH    \n",
      "                        H     \n"
     ]
    }
   ],
   "source": [
    "#Replace all ______ with rjust, ljust or center. \n",
    "\n",
    "thickness = int(input()) #This must be an odd number\n",
    "c = 'H'\n",
    "\n",
    "#Top Cone\n",
    "for i in range(thickness):\n",
    "    print((c*i).rjust(thickness-1)+c+(c*i).ljust(thickness-1))\n",
    "\n",
    "#Top Pillars\n",
    "for i in range(thickness+1):\n",
    "    print((c*thickness).center(thickness*2)+(c*thickness).center(thickness*6))\n",
    "\n",
    "#Middle Belt\n",
    "for i in range((thickness+1)//2):\n",
    "    print((c*thickness*5).center(thickness*6))    \n",
    "\n",
    "#Bottom Pillars\n",
    "for i in range(thickness+1):\n",
    "    print((c*thickness).center(thickness*2)+(c*thickness).center(thickness*6))    \n",
    "\n",
    "#Bottom Cone\n",
    "for i in range(thickness):\n",
    "    print(((c*(thickness-i-1)).rjust(thickness)+c+(c*(thickness-i-1)).ljust(thickness)).rjust(thickness*6))"
   ]
  },
  {
   "cell_type": "markdown",
   "metadata": {},
   "source": [
    "21.Text Wrap"
   ]
  },
  {
   "cell_type": "code",
   "execution_count": 81,
   "metadata": {},
   "outputs": [
    {
     "name": "stdout",
     "output_type": "stream",
     "text": [
      "Subh\n",
      "ashB\n",
      "anda\n",
      "ra \n",
      "\n"
     ]
    }
   ],
   "source": [
    "import textwrap\n",
    "\n",
    "def wrap(string, max_width):\n",
    "    addChar = \"\\n\"\n",
    "    newString = [string[i:i+max_width] + addChar for i in range(0,len(string),max_width)]\n",
    "    newString = ''.join(newString)\n",
    "    return newString\n",
    "\n",
    "if __name__ == '__main__':\n",
    "    string, max_width = input(), int(input())\n",
    "    result = wrap(string, max_width)\n",
    "    print(result)"
   ]
  },
  {
   "cell_type": "code",
   "execution_count": 82,
   "metadata": {},
   "outputs": [
    {
     "name": "stdout",
     "output_type": "stream",
     "text": [
      "0\n",
      "5\n",
      "10\n",
      "15\n",
      "20\n",
      "25\n",
      "30\n",
      "35\n",
      "40\n",
      "45\n"
     ]
    }
   ],
   "source": [
    "#we can use range() function with 3 parameters\n",
    "for i in range(0,50,5):\n",
    "    print(i)"
   ]
  },
  {
   "cell_type": "code",
   "execution_count": 84,
   "metadata": {},
   "outputs": [
    {
     "name": "stdout",
     "output_type": "stream",
     "text": [
      "Hello\n"
     ]
    }
   ],
   "source": [
    "#we can use join() function to join existed list together\n",
    "my_list = ['H', 'e', 'l', 'l', 'o']\n",
    "newMyList = ''.join(my_list)\n",
    "print(newMyList)"
   ]
  },
  {
   "cell_type": "code",
   "execution_count": 88,
   "metadata": {},
   "outputs": [
    {
     "name": "stdout",
     "output_type": "stream",
     "text": [
      "H @ e @ l @ l @ o\n"
     ]
    }
   ],
   "source": [
    "#Examople with seperator\n",
    "my_list = ['H', 'e', 'l', 'l', 'o']\n",
    "newMyList = ' @ '.join(my_list)\n",
    "print(newMyList)"
   ]
  },
  {
   "cell_type": "markdown",
   "metadata": {},
   "source": [
    "21.Designer Door Mat"
   ]
  },
  {
   "cell_type": "code",
   "execution_count": 115,
   "metadata": {},
   "outputs": [
    {
     "name": "stdout",
     "output_type": "stream",
     "text": [
      "------------.|.------------\n",
      "---------.|..|..|.---------\n",
      "------.|..|..|..|..|.------\n",
      "---.|..|..|..|..|..|..|.---\n",
      "----------WELCOME----------\n",
      "---.|..|..|..|..|..|..|.---\n",
      "------.|..|..|..|..|.------\n",
      "---------.|..|..|.---------\n",
      "------------.|.------------\n"
     ]
    }
   ],
   "source": [
    "N, M = map(int, input().split())\n",
    "\n",
    "if M == N*3:\n",
    "    for i in range(int(N/2)):\n",
    "        string = \".|.\" * (2 * i + 1)\n",
    "        x = string.center(M, '-')\n",
    "        print(x)\n",
    "\n",
    "    print(\"WELCOME\".center(M, '-'))\n",
    "\n",
    "    for i in reversed(range(int(N/2))):\n",
    "        string = \".|.\" * (2 * i + 1)\n",
    "        x = string.center(M, '-')\n",
    "        print(x)\n",
    "\n"
   ]
  },
  {
   "cell_type": "code",
   "execution_count": null,
   "metadata": {},
   "outputs": [],
   "source": []
  }
 ],
 "metadata": {
  "kernelspec": {
   "display_name": "base",
   "language": "python",
   "name": "python3"
  },
  "language_info": {
   "codemirror_mode": {
    "name": "ipython",
    "version": 3
   },
   "file_extension": ".py",
   "mimetype": "text/x-python",
   "name": "python",
   "nbconvert_exporter": "python",
   "pygments_lexer": "ipython3",
   "version": "3.12.5"
  }
 },
 "nbformat": 4,
 "nbformat_minor": 2
}
